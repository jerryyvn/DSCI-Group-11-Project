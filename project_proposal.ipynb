{
 "cells": [
  {
   "cell_type": "markdown",
   "metadata": {},
   "source": [
    "Project Proposal\n",
    "\n",
    "Data from: https://github.com/owid/covid-19-data/tree/master/public/data/\n",
    "\n",
    "Introduction:\n",
    "\n",
    "Preliminary Exploratory Data Analysis:\n",
    "\n",
    "Methods:\n",
    "\n",
    "Expected Outcomes and Significance:"
   ]
  },
  {
   "cell_type": "code",
   "execution_count": null,
   "metadata": {},
   "outputs": [],
   "source": []
  }
 ],
 "metadata": {
  "kernelspec": {
   "display_name": "R",
   "language": "R",
   "name": "ir"
  },
  "language_info": {
   "codemirror_mode": "r",
   "file_extension": ".r",
   "mimetype": "text/x-r-source",
   "name": "R",
   "pygments_lexer": "r",
   "version": "4.0.0"
  }
 },
 "nbformat": 4,
 "nbformat_minor": 4
}
