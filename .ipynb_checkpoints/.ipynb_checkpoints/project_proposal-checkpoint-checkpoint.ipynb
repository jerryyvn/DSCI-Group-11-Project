{
 "cells": [
  {
   "cell_type": "markdown",
   "metadata": {},
   "source": [
    "Group 11 Project Proposal\n",
    "\n",
    "Members: Jerry Yan, Annie Tsoromocos, Siddh Patel, Miles Da Silva\n",
    "\n",
    "Dataset: https://github.com/owid/covid-19-data/tree/master/public/data/\n",
    "\n",
    "Title:\n",
    "\n",
    "Introduction:\n",
    "\n",
    "Preliminary Exploratory Data Analysis:\n",
    "\n",
    "Methods:\n",
    "\n",
    "Expected Outcomes and Significance: "
   ]
  }
 ],
 "metadata": {
  "kernelspec": {
   "display_name": "R",
   "language": "R",
   "name": "ir"
  },
  "language_info": {
   "codemirror_mode": "r",
   "file_extension": ".r",
   "mimetype": "text/x-r-source",
   "name": "R",
   "pygments_lexer": "r",
   "version": "4.0.0"
  }
 },
 "nbformat": 4,
 "nbformat_minor": 4
}
